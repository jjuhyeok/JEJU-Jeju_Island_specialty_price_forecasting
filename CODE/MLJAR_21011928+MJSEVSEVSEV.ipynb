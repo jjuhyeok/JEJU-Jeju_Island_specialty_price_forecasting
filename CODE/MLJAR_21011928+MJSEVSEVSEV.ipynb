{
  "cells": [
    {
      "cell_type": "code",
      "execution_count": 22,
      "metadata": {
        "id": "RwDLmRBhe4Zj"
      },
      "outputs": [],
      "source": [
        "import pandas as pd\n",
        "import numpy as np\n",
        "from sklearn.preprocessing import LabelEncoder\n",
        "from sklearn.model_selection import train_test_split\n",
        "from tqdm import tqdm\n",
        "\n",
        "import holidays\n",
        "from autogluon.tabular import TabularDataset, TabularPredictor\n",
        "\n",
        "import warnings\n",
        "warnings.filterwarnings('ignore')"
      ]
    },
    {
      "cell_type": "code",
      "execution_count": 24,
      "metadata": {
        "id": "iIn-ird9e4Zl"
      },
      "outputs": [],
      "source": [
        "train = pd.read_csv('train.csv')\n",
        "international_trade = pd.read_csv('international_trade.csv')\n",
        "test = pd.read_csv('test.csv')"
      ]
    },
    {
      "cell_type": "code",
      "execution_count": 26,
      "metadata": {
        "id": "GW0WvVk4e4Zm"
      },
      "outputs": [],
      "source": [
        "def group_season(df):\n",
        "    df.loc[(df['month'] == 3) | (df['month'] == 4) | (df['month'] == 5), 'season'] = '봄'\n",
        "    df.loc[(df['month'] == 6) | (df['month'] == 7) | (df['month'] == 8), 'season'] = '여름'\n",
        "    df.loc[(df['month'] == 9) | (df['month'] == 10) | (df['month'] == 11), 'season'] = '가을'\n",
        "    df.loc[(df['month'] == 12) | (df['month'] == 1) | (df['month'] == 2), 'season'] = '겨울'\n",
        "    return df['season']\n",
        "\n",
        "def holiday(df):\n",
        "    kr_holidays = holidays.KR()\n",
        "    df['holiday'] = df.timestamp.apply(lambda x: 'holiday' if x in kr_holidays else 'non-holiday')\n",
        "    return df['holiday']\n",
        "\n",
        "def cyclical_feature(df, time=12):\n",
        "    df['sin_time'] = np.sin(2*np.pi*df.month/time)\n",
        "    df['cos_time'] = np.cos(2*np.pi*df.month/time)\n",
        "\n",
        "def post_preprocessing(test, submission):\n",
        "    idx_list = test[(test['Weekday'] == 6)].index\n",
        "    submission.loc[idx_list, 'answer'] = 0 # Weekday == 6 (일요일)이면 가격 0원\n",
        "    submission['answer'] = submission['answer'].apply(lambda x: max(0, x)) # 가격에 음수가 있다면 가격 0원으로 변경\n",
        "    return submission\n",
        "\n",
        "\n",
        "\n",
        "# 날짜를 기반으로 주 수확 시기인지를 판단하는 함수를 정의합니다.\n",
        "def determine_harvest_weight(item, month):\n",
        "    harvest_times = {\n",
        "    'TG': {'main': [(10, 1)]},  # 감귤: 10월부터 이듬해 1월까지\n",
        "    'BC': {'main': [(4, 6), (9, 11)]},  # 브로콜리: 4월-6월, 9월-11월\n",
        "    'RD': {'main': [(5, 6), (11, 12)]},  # 무: 5월, 11월\n",
        "    'CR': {'main': [(7, 8), (10, 11)]},  # 당근: 7월-8월, 10월-12월\n",
        "    'CB': {'main': [(6, 6), (11, 11)]}  # 양배추: 6월, 11월\n",
        "}\n",
        "    main_harvest = harvest_times[item]['main']\n",
        "    for start, end in main_harvest:\n",
        "        if start <= month <= end:\n",
        "            return 1\n",
        "    return 0"
      ]
    },
    {
      "cell_type": "code",
      "execution_count": 27,
      "metadata": {
        "id": "GDluuBJRe4Zm"
      },
      "outputs": [],
      "source": [
        "class DataPreprocessing:\n",
        "    def __init__(self, train, test):\n",
        "        self.train = train\n",
        "        self.test = test\n",
        "\n",
        "    @staticmethod\n",
        "    def label_encode(train, test):\n",
        "        categorical_col = ['item', 'corporation', 'location', 'season', 'holiday', 'total_item_value',\n",
        "                           'item_month_Weekday', 'item_corp_Weekday', 'item_location_Weekday', 'item_year_season', 'item_weight']\n",
        "\n",
        "        for i in categorical_col:\n",
        "            le = LabelEncoder()\n",
        "            train[i] = le.fit_transform(train[i])\n",
        "            test[i] = le.transform(test[i])\n",
        "\n",
        "        return train, test\n",
        "\n",
        "    @staticmethod\n",
        "    def remove_outliers(train):\n",
        "        print('Remove outliers')\n",
        "        # Q1 = train['price(원/kg)'].quantile(0.25)\n",
        "        # Q3 = train['price(원/kg)'].quantile(0.75)\n",
        "        # IQR = Q3 - Q1\n",
        "\n",
        "        # lower_bound = Q1 - 1.5 * IQR\n",
        "        # upper_bound = Q3 + 3 * IQR\n",
        "        # train = train[(train['price(원/kg)'] >= lower_bound) & (train['price(원/kg)'] <= upper_bound)]\n",
        "        train.loc[(train['Weekday'] == 6) & (train['price(원/kg)'] >= 0), 'price(원/kg)'] = 0\n",
        "        return train\n",
        "\n",
        "    @staticmethod\n",
        "    def preprocessing(data):\n",
        "        print('Preprocessing Start')\n",
        "        # time feature\n",
        "        data['year'] = data['timestamp'].apply(lambda x: int(x[0:4]))\n",
        "        data['month'] = data['timestamp'].apply(lambda x: int(x[5:7]))\n",
        "        data['Weekday'] = pd.to_datetime(data['timestamp']).dt.weekday\n",
        "        data['is_weekend'] = data['Weekday'].apply(lambda x: 1 if x >= 6 else 0)\n",
        "        data['year'] = data['year'] - 2019\n",
        "        data['season'] = group_season(data)\n",
        "        data['holiday'] = holiday(data)\n",
        "        cyclical_feature(data)\n",
        "\n",
        "        # item feature\n",
        "        data['total_item_value'] = data['item']+data['corporation']+data['location']\n",
        "        data['item_month_Weekday'] = data['item'].astype(str) + \"_\" + data['month'].astype(str) + data['Weekday'].astype(str)\n",
        "        data['item_corp_Weekday'] = data['item'].astype(str) + \"_\" + data['corporation'].astype(str) + data['Weekday'].astype(str)\n",
        "        data['item_location_Weekday'] = data['item'].astype(str) + \"_\" + data['location'].astype(str) + data['Weekday'].astype(str)\n",
        "        data['item_year_season'] = data['item'].astype(str) + \"_\" + data['year'].astype(str) + \"_\" + data['season'].astype(str)\n",
        "\n",
        "\n",
        "        data['timestamp'] = pd.to_datetime(data['timestamp'])\n",
        "        data['harvest_weight'] = data.apply(lambda row: determine_harvest_weight(row['item'], row['timestamp'].month), axis=1)\n",
        "        # data['timestamp'] = data['timestamp'].view('int64') * 1e9\n",
        "\n",
        "        data['item_weight'] = data['item'].astype(str) + \"_\" + data['harvest_weight'].astype(str)\n",
        "        return data\n",
        "\n",
        "    def fit(self):\n",
        "        self.train = self.preprocessing(self.train)\n",
        "        self.test = self.preprocessing(self.test)\n",
        "\n",
        "        self.train = self.remove_outliers(self.train)\n",
        "\n",
        "        x_train = self.train.drop(columns=['ID', 'supply(kg)', 'price(원/kg)'])\n",
        "        y_train = self.train['price(원/kg)']\n",
        "        x_test = self.test.drop(columns=['ID'])\n",
        "\n",
        "        x_train, x_test = self.label_encode(x_train, x_test)\n",
        "\n",
        "        return x_train, y_train, x_test"
      ]
    },
    {
      "cell_type": "code",
      "execution_count": 29,
      "metadata": {
        "colab": {
          "base_uri": "https://localhost:8080/"
        },
        "id": "6GbGvo9Fa45m",
        "outputId": "61d7b8e3-c21a-436f-c062-9b8820d690e6"
      },
      "outputs": [
        {
          "name": "stdout",
          "output_type": "stream",
          "text": [
            "Preprocessing Start\n",
            "Preprocessing Start\n",
            "Remove outliers\n"
          ]
        }
      ],
      "source": [
        "preprocessing = DataPreprocessing(train, test)\n",
        "x, y, test = preprocessing.fit()\n",
        "train_set = pd.concat([x, y], axis=1)\n",
        "x_train, x_val, y_train, y_val = train_test_split(x, y, test_size=0.2, random_state=1103)\n",
        "train_autogluon = pd.concat([x, y], axis=1)"
      ]
    },
    {
      "cell_type": "code",
      "execution_count": null,
      "metadata": {},
      "outputs": [],
      "source": [
        "from supervised.automl import AutoML\n",
        "automl = AutoML(\n",
        "    algorithms=[\"CatBoost\", \"Xgboost\", \"LightGBM\", \"Random Forest\"],\n",
        "    \n",
        "    mode=\"Compete\",\n",
        "    ml_task=\"regression\",\n",
        "    eval_metric='rmse',\n",
        "    random_state=19990313,\n",
        "    total_time_limit=None,\n",
        "    model_time_limit=None\n",
        ")\n",
        "\n",
        "automl.fit(x, y)\n",
        "pred = automl.predict(test)\n",
        "submit = pd.read_csv('sample_submission.csv')\n",
        "submit['answer'] = pred\n",
        "submit['answer'][submit['answer'] < 0] = 0\n",
        "submit.to_csv('MLJAR_19990313.csv', index=False)"
      ]
    },
    {
      "cell_type": "code",
      "execution_count": null,
      "metadata": {},
      "outputs": [],
      "source": [
        "from supervised.automl import AutoML\n",
        "automl = AutoML(\n",
        "    algorithms=[\"CatBoost\", \"Xgboost\", \"LightGBM\", \"Random Forest\"],\n",
        "    \n",
        "    mode=\"Compete\",\n",
        "    ml_task=\"regression\",\n",
        "    eval_metric='rmse',\n",
        "    random_state=7777,\n",
        "    total_time_limit=None,\n",
        "    model_time_limit=None\n",
        ")\n",
        "\n",
        "automl.fit(x, y)\n",
        "pred = automl.predict(test)\n",
        "submit = pd.read_csv('sample_submission.csv')\n",
        "submit['answer'] = pred\n",
        "submit['answer'][submit['answer'] < 0] = 0\n",
        "submit.to_csv('MJSEVSEVSEV.csv', index=False)"
      ]
    }
  ],
  "metadata": {
    "accelerator": "GPU",
    "colab": {
      "provenance": []
    },
    "kernelspec": {
      "display_name": "Python 3",
      "name": "python3"
    },
    "language_info": {
      "codemirror_mode": {
        "name": "ipython",
        "version": 3
      },
      "file_extension": ".py",
      "mimetype": "text/x-python",
      "name": "python",
      "nbconvert_exporter": "python",
      "pygments_lexer": "ipython3",
      "version": "3.8.6"
    }
  },
  "nbformat": 4,
  "nbformat_minor": 0
}
